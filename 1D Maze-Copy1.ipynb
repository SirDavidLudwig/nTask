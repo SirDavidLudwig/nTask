{
 "cells": [
  {
   "cell_type": "code",
   "execution_count": null,
   "metadata": {},
   "outputs": [],
   "source": []
  },
  {
   "cell_type": "code",
   "execution_count": 1,
   "metadata": {},
   "outputs": [
    {
     "name": "stderr",
     "output_type": "stream",
     "text": [
      "Using TensorFlow backend.\n",
      "/home/david/.local/lib/python3.7/site-packages/tensorboard/compat/tensorflow_stub/dtypes.py:541: FutureWarning: Passing (type, 1) or '1type' as a synonym of type is deprecated; in a future version of numpy, it will be understood as (type, (1,)) / '(1,)type'.\n",
      "  _np_qint8 = np.dtype([(\"qint8\", np.int8, 1)])\n",
      "/home/david/.local/lib/python3.7/site-packages/tensorboard/compat/tensorflow_stub/dtypes.py:542: FutureWarning: Passing (type, 1) or '1type' as a synonym of type is deprecated; in a future version of numpy, it will be understood as (type, (1,)) / '(1,)type'.\n",
      "  _np_quint8 = np.dtype([(\"quint8\", np.uint8, 1)])\n",
      "/home/david/.local/lib/python3.7/site-packages/tensorboard/compat/tensorflow_stub/dtypes.py:543: FutureWarning: Passing (type, 1) or '1type' as a synonym of type is deprecated; in a future version of numpy, it will be understood as (type, (1,)) / '(1,)type'.\n",
      "  _np_qint16 = np.dtype([(\"qint16\", np.int16, 1)])\n",
      "/home/david/.local/lib/python3.7/site-packages/tensorboard/compat/tensorflow_stub/dtypes.py:544: FutureWarning: Passing (type, 1) or '1type' as a synonym of type is deprecated; in a future version of numpy, it will be understood as (type, (1,)) / '(1,)type'.\n",
      "  _np_quint16 = np.dtype([(\"quint16\", np.uint16, 1)])\n",
      "/home/david/.local/lib/python3.7/site-packages/tensorboard/compat/tensorflow_stub/dtypes.py:545: FutureWarning: Passing (type, 1) or '1type' as a synonym of type is deprecated; in a future version of numpy, it will be understood as (type, (1,)) / '(1,)type'.\n",
      "  _np_qint32 = np.dtype([(\"qint32\", np.int32, 1)])\n",
      "/home/david/.local/lib/python3.7/site-packages/tensorboard/compat/tensorflow_stub/dtypes.py:550: FutureWarning: Passing (type, 1) or '1type' as a synonym of type is deprecated; in a future version of numpy, it will be understood as (type, (1,)) / '(1,)type'.\n",
      "  np_resource = np.dtype([(\"resource\", np.ubyte, 1)])\n"
     ]
    }
   ],
   "source": [
    "import math\n",
    "import numpy as np\n",
    "import random\n",
    "from collections import defaultdict\n",
    "\n",
    "from agent import *\n",
    "from rl import *\n",
    "from utils import *"
   ]
  },
  {
   "cell_type": "markdown",
   "metadata": {},
   "source": [
    "# Standard Maze"
   ]
  },
  {
   "cell_type": "code",
   "execution_count": 2,
   "metadata": {},
   "outputs": [],
   "source": [
    "class MazeAgent(RlAgent):\n",
    "    \n",
    "    def __init__(self, rl, mazeSize, goal):\n",
    "        super(MazeAgent, self).__init__(rl)\n",
    "        self.__size = mazeSize\n",
    "        self.__goal = goal\n",
    "        \n",
    "    def onBegin(self, state, startState = None):\n",
    "        if startState() is not None:\n",
    "            state(startState)\n",
    "        else:\n",
    "            state(random.randrange(self.__size))\n",
    "        \n",
    "    def onStep(self, state):\n",
    "        if self.stepCount() > 0:\n",
    "            self.reward(0.0, absorb=False)\n",
    "        action = self.predict(f\"s{state()}\", (\"left\", \"right\"))\n",
    "        if action == 0:\n",
    "            state((state() - 1) % self.__size)\n",
    "        else:\n",
    "            state((state() + 1) % self.__size)\n",
    "    \n",
    "    def onFinish(self, state):\n",
    "        if state() == self.__goal and self.stepCount() > 0:\n",
    "            self.reward(1.0)\n",
    "        return self.stepCount()\n",
    "    \n",
    "    def isAtGoal(self, state):\n",
    "        return state() == self.__goal\n",
    "    \n",
    "    def plot(self, title):\n",
    "        l, r = ([self.rl().maxValue(f\"s{i}\", a) for i in range(self.__size)] for a in (\"left\", \"right\"))\n",
    "        plot(title, MAZE_SIZE, (l, r), (\"Left\", \"Right\"))"
   ]
  },
  {
   "cell_type": "code",
   "execution_count": 3,
   "metadata": {},
   "outputs": [],
   "source": [
    "# Hard limit number of moves for a single episode\n",
    "STEP_LIMIT = 100"
   ]
  },
  {
   "cell_type": "code",
   "execution_count": 4,
   "metadata": {},
   "outputs": [],
   "source": [
    "# Maze Settings\n",
    "MAZE_SIZE = 20\n",
    "GOAL      = 10\n",
    "\n",
    "# Agent Settings\n",
    "HRR_SIZE   = 512 # 64\n",
    "LEARN_RATE = 0.05\n",
    "EPSILON    = 0.2\n",
    "DISCOUNT   = 0.75\n",
    "\n",
    "# The agents (Q-learning, double Q-learning, deep Q-learning, double/deep Q-learning)\n",
    "ql = NQLearningNetwork(1, HRR_SIZE, learnRate=LEARN_RATE, discountFactor=DISCOUNT)\n",
    "agent = MazeAgent(ql, MAZE_SIZE, GOAL)"
   ]
  },
  {
   "cell_type": "code",
   "execution_count": 5,
   "metadata": {},
   "outputs": [
    {
     "name": "stdout",
     "output_type": "stream",
     "text": [
      "Time: 1.89 seconds\n",
      "Episode: 9\n",
      "Error: -1\n",
      "Progress: [####################] 100.00%\n"
     ]
    },
    {
     "data": {
      "image/png": "[encoded data removed]",
      "text/plain": [
       "<Figure size 432x288 with 1 Axes>"
      ]
     },
     "metadata": {
      "needs_background": "light"
     },
     "output_type": "display_data"
    }
   ],
   "source": [
    "train(\"Q-learning Maze Agent\", agent, maxEpochs=2000, epsilon=EPSILON, simLimit=STEP_LIMIT)"
   ]
  },
  {
   "cell_type": "code",
   "execution_count": null,
   "metadata": {},
   "outputs": [],
   "source": []
  },
  {
   "cell_type": "markdown",
   "metadata": {},
   "source": [
    "# n-Task Maze"
   ]
  },
  {
   "cell_type": "code",
   "execution_count": 86,
   "metadata": {},
   "outputs": [],
   "source": [
    "def logTransform(delta):\n",
    "    return np.sign(delta)*np.log(abs(delta) + 1)\n",
    "\n",
    "def plotFrames(title, *frameGroups, labels):\n",
    "    fig, ax = plt.subplots()\n",
    "    for i, group in enumerate(frameGroups):\n",
    "        keys = tuple(group.keys())\n",
    "        t = np.arange(keys[0], keys[-1] + 1, 1)\n",
    "        ax.plot(t, list(group.values()), label=labels[i])\n",
    "    ax.set(xlabel='Episode', ylabel='Value', title=title)\n",
    "    ax.grid()\n",
    "    plt.legend()\n",
    "    "
   ]
  },
  {
   "cell_type": "code",
   "execution_count": 87,
   "metadata": {},
   "outputs": [],
   "source": [
    "class NTaskMazeAgent(RlAgent):\n",
    "    \n",
    "    def __init__(self, rl, mazeSize, goals):\n",
    "        super(NTaskMazeAgent, self).__init__(rl)\n",
    "        self.__size = mazeSize\n",
    "        self.__goals = goals\n",
    "        self.__rewardValue = HolographicNeuralNetwork(self.rl().hrrSize(), 1) # Learns the value function for the reward schedule\n",
    "        self.__atrFrames = defaultdict(dict)\n",
    "        self.__thresholdFrames = {}\n",
    "        self.initNTask(len(goals))\n",
    "        \n",
    "    def initNTask(self, nGoals):\n",
    "        \"\"\"Initialize the ATR values and threshold value\"\"\"\n",
    "        self.__atrValues = [1.0] * nGoals # Abstract task representation lookup values (optimistic)\n",
    "        self.__threshold = -1.0 # negative of goal reward value\n",
    "        self.trackFrames()\n",
    "        \n",
    "    def onBegin(self, state, wm, goal, startState = None):\n",
    "        \"\"\"Set everything up at the beginning of the episode\"\"\"\n",
    "        if goal() is None:\n",
    "            goal(len(self.__goals) - 1) # Initialize the goal\n",
    "        if wm() is None:\n",
    "            wm(0) # Use the first ATR\n",
    "        if startState() is not None:\n",
    "            state(startState)\n",
    "        else:\n",
    "            state(random.randrange(self.__size))\n",
    "            \n",
    "        # Switch to the next goal every 100 episodes\n",
    "#         if self.episode() % 100 == 0:\n",
    "#             goal((goal() + 1) % len(self.__goals)) # Change to the next goal position\n",
    "#             print(\"Episode switch\")\n",
    "        \n",
    "    def onStep(self, state, wm, goal):\n",
    "        \"\"\"Each step within the episode\"\"\"\n",
    "        if self.stepCount() > 0:\n",
    "            self.reward(0.0, state, goal, absorb=False)\n",
    "        action = self.predict(self.stateConvolution(state, wm), (\"left\", \"right\"))\n",
    "        if action == 0:\n",
    "            state((state() - 1) % self.__size)\n",
    "        else:\n",
    "            state((state() + 1) % self.__size)\n",
    "    \n",
    "    def onFinish(self, state, wm, goal):\n",
    "        \"\"\"At the end of the episode, give out a reward (if necessary)\"\"\"\n",
    "        if self.stepCount() > 0 and self.isAtGoal(state, goal):\n",
    "            self.reward(1.0, state, wm)\n",
    "        self.trackFrames()\n",
    "        return self.stepCount()\n",
    "    \n",
    "    def isAtGoal(self, state, goal):\n",
    "        \"\"\"Check if the agent has reached the current goal state\"\"\"\n",
    "        return state() == self.__goals[goal()]\n",
    "    \n",
    "    # This currently doesn't work well when reaching an unexpected goal\n",
    "    def reward(self, reward, state, wm, absorb=True):\n",
    "        \"\"\"Give a reward to the agent\"\"\"\n",
    "        \n",
    "        # Check if we should task switch\n",
    "        delta = reward - (self.__rewardValue.value(self.stateConvolution(state, wm))[0] + 1)\n",
    "        if delta < self.__threshold:\n",
    "#             wm((wm() + 1) % len(self.__atrs)) # Try the next ATR\n",
    "#             print(\"Task switched\")\n",
    "            return\n",
    "        \n",
    "        # No task switch occurred, learn the reward\n",
    "        super(NTaskMazeAgent, self).reward(reward, absorb=absorb)\n",
    "        self.__rewardValue.fit(self.stateConvolution(state, wm), [reward - 1])\n",
    "        self.__threshold -= 1.0*delta\n",
    "        \n",
    "        # If we are at a goal/terminating state, update the threshold and ATR value\n",
    "        if absorb: # If at a goal/terminating state\n",
    "            self.__atrValues[wm()] += 1.0*logTransform(reward - self.__atrValues[wm()])\n",
    "            \n",
    "    def stateConvolution(self, state = None, wm = None):\n",
    "        if type(state) != int:\n",
    "            state = state()\n",
    "        if type(wm) != int:\n",
    "            wm = wm()\n",
    "        return f\"s{state}*atr{wm}\"\n",
    "    \n",
    "    def trackFrames(self):\n",
    "        \"\"\"Log the current ATR and threshold values for plotting\"\"\"\n",
    "        for i, atrValue in enumerate(self.__atrValues):\n",
    "            self.__atrFrames[i][self.episode()] = atrValue\n",
    "        self.__thresholdFrames[self.episode()] = self.__threshold\n",
    "    \n",
    "    def plot(self, title):\n",
    "        rewardValues = []\n",
    "        for atr in range(len(self.__atrValues)):\n",
    "            rewardValues.append([self.__rewardValue.value(self.stateConvolution(i, atr))[0]+1 for i in range(self.__size)])\n",
    "            l, r = ([self.rl().maxValue(self.stateConvolution(i, atr), a) for i in range(self.__size)] for a in (\"left\", \"right\"))\n",
    "            plot(f\"{title} - ATR {atr}\", MAZE_SIZE, (l, r), (\"Left\", \"Right\"))\n",
    "        plot(f\"{title} - Reward Value Function\", MAZE_SIZE, rewardValues, [f\"ATR: {g}\" for g in self.__goals])\n",
    "        plotFrames(f\"{title} - Threshold\", self.__thresholdFrames, labels=(\"t\",))\n",
    "        "
   ]
  },
  {
   "cell_type": "code",
   "execution_count": 88,
   "metadata": {},
   "outputs": [],
   "source": [
    "# Hard limit number of moves for a single episode\n",
    "STEP_LIMIT = 100"
   ]
  },
  {
   "cell_type": "code",
   "execution_count": 89,
   "metadata": {},
   "outputs": [],
   "source": [
    "# Maze Settings\n",
    "MAZE_SIZE = 20\n",
    "GOALS     = (0, 10) \n",
    "\n",
    "# Agent Settings\n",
    "HRR_SIZE   = 512 # 64\n",
    "LEARN_RATE = 0.05\n",
    "EPSILON    = 0.2\n",
    "DISCOUNT   = 0.75\n",
    "\n",
    "# The agents (Q-learning, double Q-learning, deep Q-learning, double/deep Q-learning)\n",
    "ql = NQLearningNetwork(1, HRR_SIZE, learnRate=LEARN_RATE, discountFactor=DISCOUNT)\n",
    "agent = NTaskMazeAgent(ql, MAZE_SIZE, GOALS)"
   ]
  },
  {
   "cell_type": "code",
   "execution_count": null,
   "metadata": {},
   "outputs": [
    {
     "name": "stdout",
     "output_type": "stream",
     "text": [
      "Time: 55.36 seconds\n",
      "Episode: 1824\n",
      "Error: -1\n",
      "Progress: [##################--] 91.20%\n"
     ]
    }
   ],
   "source": [
    "train(\"Q-learning Maze Agent\", agent, maxEpisodes=2000, epsilon=EPSILON, simLimit=STEP_LIMIT)"
   ]
  },
  {
   "cell_type": "code",
   "execution_count": null,
   "metadata": {},
   "outputs": [],
   "source": []
  },
  {
   "cell_type": "code",
   "execution_count": null,
   "metadata": {},
   "outputs": [],
   "source": []
  }
 ],
 "metadata": {
  "kernelspec": {
   "display_name": "Python 3",
   "language": "python",
   "name": "python3"
  },
  "language_info": {
   "codemirror_mode": {
    "name": "ipython",
    "version": 3
   },
   "file_extension": ".py",
   "mimetype": "text/x-python",
   "name": "python",
   "nbconvert_exporter": "python",
   "pygments_lexer": "ipython3",
   "version": "3.7.6"
  }
 },
 "nbformat": 4,
 "nbformat_minor": 4
}
