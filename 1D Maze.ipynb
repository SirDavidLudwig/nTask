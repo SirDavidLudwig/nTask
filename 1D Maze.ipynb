{
 "cells": [
  {
   "cell_type": "code",
   "execution_count": null,
   "metadata": {},
   "outputs": [],
   "source": []
  },
  {
   "cell_type": "code",
   "execution_count": 1,
   "metadata": {},
   "outputs": [
    {
     "name": "stderr",
     "output_type": "stream",
     "text": [
      "Using TensorFlow backend.\n",
      "/home/david/.local/lib/python3.7/site-packages/tensorboard/compat/tensorflow_stub/dtypes.py:541: FutureWarning: Passing (type, 1) or '1type' as a synonym of type is deprecated; in a future version of numpy, it will be understood as (type, (1,)) / '(1,)type'.\n",
      "  _np_qint8 = np.dtype([(\"qint8\", np.int8, 1)])\n",
      "/home/david/.local/lib/python3.7/site-packages/tensorboard/compat/tensorflow_stub/dtypes.py:542: FutureWarning: Passing (type, 1) or '1type' as a synonym of type is deprecated; in a future version of numpy, it will be understood as (type, (1,)) / '(1,)type'.\n",
      "  _np_quint8 = np.dtype([(\"quint8\", np.uint8, 1)])\n",
      "/home/david/.local/lib/python3.7/site-packages/tensorboard/compat/tensorflow_stub/dtypes.py:543: FutureWarning: Passing (type, 1) or '1type' as a synonym of type is deprecated; in a future version of numpy, it will be understood as (type, (1,)) / '(1,)type'.\n",
      "  _np_qint16 = np.dtype([(\"qint16\", np.int16, 1)])\n",
      "/home/david/.local/lib/python3.7/site-packages/tensorboard/compat/tensorflow_stub/dtypes.py:544: FutureWarning: Passing (type, 1) or '1type' as a synonym of type is deprecated; in a future version of numpy, it will be understood as (type, (1,)) / '(1,)type'.\n",
      "  _np_quint16 = np.dtype([(\"quint16\", np.uint16, 1)])\n",
      "/home/david/.local/lib/python3.7/site-packages/tensorboard/compat/tensorflow_stub/dtypes.py:545: FutureWarning: Passing (type, 1) or '1type' as a synonym of type is deprecated; in a future version of numpy, it will be understood as (type, (1,)) / '(1,)type'.\n",
      "  _np_qint32 = np.dtype([(\"qint32\", np.int32, 1)])\n",
      "/home/david/.local/lib/python3.7/site-packages/tensorboard/compat/tensorflow_stub/dtypes.py:550: FutureWarning: Passing (type, 1) or '1type' as a synonym of type is deprecated; in a future version of numpy, it will be understood as (type, (1,)) / '(1,)type'.\n",
      "  np_resource = np.dtype([(\"resource\", np.ubyte, 1)])\n"
     ]
    }
   ],
   "source": [
    "import math\n",
    "import numpy as np\n",
    "import random\n",
    "\n",
    "from agent import *\n",
    "from rl import *\n",
    "from utils import *"
   ]
  },
  {
   "cell_type": "code",
   "execution_count": 2,
   "metadata": {},
   "outputs": [],
   "source": [
    "class MazeAgent(RlAgent):\n",
    "    \n",
    "    def __init__(self, rl, mazeSize, goal):\n",
    "        super(MazeAgent, self).__init__(rl)\n",
    "        self.__size = mazeSize\n",
    "        self.__goal = goal\n",
    "        \n",
    "    def onBegin(self, state, startState = None):\n",
    "        if startState() is not None:\n",
    "            state(startState)\n",
    "        else:\n",
    "            state(random.randrange(self.__size))\n",
    "        \n",
    "    def onStep(self, state):\n",
    "        if self.stepCount() > 0:\n",
    "            self.reward(-1.0, absorb=False)\n",
    "        action = self.predict(f\"s{state()}\", (\"left\", \"right\"))\n",
    "        if action == 0:\n",
    "            state((state() - 1) % self.__size)\n",
    "        else:\n",
    "            state((state() + 1) % self.__size)\n",
    "    \n",
    "    def onFinish(self, state):\n",
    "        if state() == self.__goal and self.stepCount() > 0:\n",
    "            self.reward(0.0)\n",
    "        return self.stepCount()\n",
    "    \n",
    "    def isAtGoal(self, state):\n",
    "        return state() == self.__goal\n",
    "    \n",
    "    def plot(self, title):\n",
    "        l, r = ([self.rl().maxValue(f\"s{i}\", a) for i in range(self.__size)] for a in (\"left\", \"right\"))\n",
    "        plot(title, MAZE_SIZE, (l, r), (\"Left\", \"Right\"))"
   ]
  },
  {
   "cell_type": "code",
   "execution_count": 3,
   "metadata": {},
   "outputs": [],
   "source": [
    "# Hard limit number of moves for a single episode\n",
    "STEP_LIMIT = 100"
   ]
  },
  {
   "cell_type": "code",
   "execution_count": 6,
   "metadata": {},
   "outputs": [],
   "source": [
    "# Maze Settings\n",
    "MAZE_SIZE = 20\n",
    "GOAL      = 10\n",
    "\n",
    "# Agent Settings\n",
    "HRR_SIZE   = 512 # 64\n",
    "LEARN_RATE = 0.05\n",
    "EPSILON    = 0.2\n",
    "DISCOUNT   = 0.95\n",
    "COPY       = 50\n",
    "\n",
    "# The agents (Q-learning, double Q-learning, deep Q-learning, double/deep Q-learning)\n",
    "ql = NQLearningNetwork(1, HRR_SIZE, learnRate=LEARN_RATE, discountFactor=DISCOUNT)\n",
    "agent = MazeAgent(ql, MAZE_SIZE, GOAL)"
   ]
  },
  {
   "cell_type": "code",
   "execution_count": 7,
   "metadata": {},
   "outputs": [
    {
     "name": "stdout",
     "output_type": "stream",
     "text": [
      "Time: 43.33 seconds\n",
      "Epoch: 2000\n",
      "Error: -1\n",
      "Progress: [####################] 100.00%\n"
     ]
    },
    {
     "data": {
      "image/png": "[encoded data removed]",
      "text/plain": [
       "<Figure size 432x288 with 1 Axes>"
      ]
     },
     "metadata": {
      "needs_background": "light"
     },
     "output_type": "display_data"
    }
   ],
   "source": [
    "train(\"Q-learning Maze Agent\", agent, maxEpochs=2000, epsilon=EPSILON, simLimit=STEP_LIMIT)"
   ]
  },
  {
   "cell_type": "code",
   "execution_count": null,
   "metadata": {},
   "outputs": [],
   "source": []
  },
  {
   "cell_type": "code",
   "execution_count": null,
   "metadata": {},
   "outputs": [],
   "source": []
  }
 ],
 "metadata": {
  "kernelspec": {
   "display_name": "Python 3",
   "language": "python",
   "name": "python3"
  },
  "language_info": {
   "codemirror_mode": {
    "name": "ipython",
    "version": 3
   },
   "file_extension": ".py",
   "mimetype": "text/x-python",
   "name": "python",
   "nbconvert_exporter": "python",
   "pygments_lexer": "ipython3",
   "version": "3.7.6"
  }
 },
 "nbformat": 4,
 "nbformat_minor": 4
}
